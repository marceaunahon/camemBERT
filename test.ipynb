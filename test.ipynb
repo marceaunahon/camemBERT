{
 "cells": [
  {
   "cell_type": "code",
   "execution_count": 1,
   "metadata": {},
   "outputs": [],
   "source": [
    "from roberta import Roberta\n",
    "from oscar import Oscar"
   ]
  },
  {
   "cell_type": "code",
   "execution_count": 16,
   "metadata": {},
   "outputs": [],
   "source": [
    "roberta = Roberta(\"cardiffnlp/twitter-roberta-base-emotion\")"
   ]
  },
  {
   "cell_type": "code",
   "execution_count": 17,
   "metadata": {},
   "outputs": [
    {
     "name": "stdout",
     "output_type": "stream",
     "text": [
      "optimism\n"
     ]
    }
   ],
   "source": [
    "# 4 emotions: joy, optimism, anger, sadness\n",
    "predictions = roberta.predict('Star Wars 3 is such a great movie!')\n",
    "print(predictions)"
   ]
  },
  {
   "cell_type": "code",
   "execution_count": 21,
   "metadata": {},
   "outputs": [
    {
     "name": "stdout",
     "output_type": "stream",
     "text": [
      "joy\n"
     ]
    }
   ],
   "source": [
    " # 4 emotions: joy, optimism, anger, sadness\n",
    "predictions1 = roberta.predict('Life is so unfair!')\n",
    "print(predictions1)"
   ]
  },
  {
   "cell_type": "markdown",
   "metadata": {},
   "source": [
    "Le point d'exclamation fait une différence de prédiction "
   ]
  },
  {
   "cell_type": "code",
   "execution_count": 19,
   "metadata": {},
   "outputs": [
    {
     "name": "stdout",
     "output_type": "stream",
     "text": [
      "sadness\n"
     ]
    }
   ],
   "source": [
    " # 4 emotions: joy, optimism, anger, sadness\n",
    "predictions1 = roberta.predict('Life is so unfair')\n",
    "print(predictions1)"
   ]
  },
  {
   "cell_type": "code",
   "execution_count": 2,
   "metadata": {},
   "outputs": [
    {
     "data": {
      "application/vnd.jupyter.widget-view+json": {
       "model_id": "7e4ac970c2d64f49809897ee93b1dd9a",
       "version_major": 2,
       "version_minor": 0
      },
      "text/plain": [
       "Downloading builder script:   0%|          | 0.00/12.9k [00:00<?, ?B/s]"
      ]
     },
     "metadata": {},
     "output_type": "display_data"
    },
    {
     "data": {
      "application/vnd.jupyter.widget-view+json": {
       "model_id": "60b6cbf74af7474d9d08e565bc9659c7",
       "version_major": 2,
       "version_minor": 0
      },
      "text/plain": [
       "Downloading readme:   0%|          | 0.00/13.4k [00:00<?, ?B/s]"
      ]
     },
     "metadata": {},
     "output_type": "display_data"
    },
    {
     "name": "stdout",
     "output_type": "stream",
     "text": [
      "Downloading and preparing dataset oscar-mini/unshuffled_deduplicated_fr to C:/Users/33631/.cache/huggingface/datasets/nthngdy___oscar-mini/unshuffled_deduplicated_fr-language=fr/0.0.0/d61b181331745a38dd31e8c6cc23d46566b96e255384c4421f2396af24a01dff...\n"
     ]
    },
    {
     "data": {
      "application/vnd.jupyter.widget-view+json": {
       "model_id": "c0d64237b52d4b3e9fa18b7e8f868d32",
       "version_major": 2,
       "version_minor": 0
      },
      "text/plain": [
       "Downloading data:   0%|          | 0.00/22.3M [00:00<?, ?B/s]"
      ]
     },
     "metadata": {},
     "output_type": "display_data"
    },
    {
     "data": {
      "application/vnd.jupyter.widget-view+json": {
       "model_id": "5c76979913334363861716d21d330321",
       "version_major": 2,
       "version_minor": 0
      },
      "text/plain": [
       "Generating train split: 0 examples [00:00, ? examples/s]"
      ]
     },
     "metadata": {},
     "output_type": "display_data"
    },
    {
     "name": "stdout",
     "output_type": "stream",
     "text": [
      "Dataset oscar-mini downloaded and prepared to C:/Users/33631/.cache/huggingface/datasets/nthngdy___oscar-mini/unshuffled_deduplicated_fr-language=fr/0.0.0/d61b181331745a38dd31e8c6cc23d46566b96e255384c4421f2396af24a01dff. Subsequent calls will reuse this data.\n"
     ]
    }
   ],
   "source": [
    "oscar = Oscar()"
   ]
  },
  {
   "cell_type": "code",
   "execution_count": 3,
   "metadata": {},
   "outputs": [
    {
     "name": "stdout",
     "output_type": "stream",
     "text": [
      "{'id': 38176, 'text': 'Vous pouvez spécifier les propriétés ou les métadonnées à collecter pour un élément d’un type de contenu spécifique en ajoutant des colonnes au type de contenu de site. Par exemple, votre organisation souhaiterez peut-être effectuer le suivi d’un ensemble spécifique de métadonnées pour tous ses bons de commande, tels que le numéro de compte, numéro de projet et responsable de projet. Si vous ajoutez des colonnes pour le numéro de compte, numéro de projet et responsable de projet pour le type de contenu de la commande achat, les utilisateurs sont invités à fournir ces métadonnées pour les éléments de ce type de contenu.'}\n",
      "199058\n",
      "{'id': 71517, 'text': 'Du Paris antique à l’histoire de l’eau à Paris, une plongée dans le passé de la capitale. Mais aussi deux conférences GRATUITES en hiver au centre Jean Verdier (Paris 10e), afin de rester au chaud, consacré au Moyen âge dans… Continuer la lecture →'}\n"
     ]
    }
   ],
   "source": [
    "print(oscar[38176])\n",
    "print(len(oscar))\n",
    "print(oscar.get_random_sample())"
   ]
  },
  {
   "cell_type": "code",
   "execution_count": 4,
   "metadata": {},
   "outputs": [
    {
     "name": "stdout",
     "output_type": "stream",
     "text": [
      "number of examples with keyword: 6\n",
      "{'id': 6661, 'text': 'Le ministre des Finances Nicolas Marceau invite le gouvernement fédéral à la prudence quant au resserrement des règles hypothécaires. On se souvient que son homologue fédéral, Jim Flaherty, avait laissé entendre qu’il pourrait être tenté de calmer le marché avec une autre modification à ces fameuses règles. Rappelons que les règles ont été changées 4 fois au cours des dernières années, rabaissant entre autre les années d’amortissement et diminuant les ratios d’endettement pour les refinancements.'}\n",
      "{'id': 9564, 'text': \"12 févr Jean-Baptiste Bibeau - Parents: Jean-Baptiste Bibeau & Catherine Plante - «Le père de l'époux n'a pas assisté au mariage à cause du mauvais temps» Elisabeth Asselin - Parents: Louis Asselin & Marie-Marthe Marceau\"}\n",
      "{'id': 43476, 'text': 'Après \"Marceau\" figure emblématique de la Résistance dans le Gard et la Cévenne et avant de consacrer un ouvrage à un autre résistant, Marceau Lapierre, les Editions Christian Lacour veulent présenter un autre \"combattant de l\\'ombre\", un Nimois curieux, idéaliste et homme de coeur: Charles Savert qui représenta le Parti communiste français (P.C.F.) au comité départemental de Libération (C.D.L.) du Gard. Personnage assez insolite et attachant, Charles Savert est , assurément, ce qu\\'on peut appeler \"un cas\" ! En effet, voilà un homme qui a été un militant actif du Parti communiste. Sans en accepter l\\'idéologie et de qui on pourrait dire qu\\'il avait \"l\\'esprit de liberté\" et \"la passion de la vérité !\".'}\n",
      "{'id': 61456, 'text': 'Isabelle Adjani, actrice ; Laure Adler, journaliste ; Pedro Almodovar, cinéaste ; Laurie Anderson, artiste ; Charles Aznavour, chanteur ; Pierre Arditi, acteur ; Niels Arestrup, acteur ; Ariane Ascaride, actrice ; Olivier Assayas, cinéaste ; Yvan Attal, acteur, cinéaste ; Josiane Balasko, actrice ; Nathalie Baye, actrice ; Emmanuelle Béart, actrice ; Jane Birkin, chanteuse, actrice ; Juliette Binoche, actrice ; Benjamin Biolay, chanteur ; John Boorman, cinéaste ; Romane Bohringer, actrice ; Carole Bouquet, actrice ; Cali, chanteur ; Jane Campion, cinéaste ; Emmanuel Carrère, écrivain ; Laetitia Casta, actrice ; Jeanne Cherhal, chanteuse ; Hélène Cixous, écrivaine ; François Cluzet, acteur ; Marion Cotillard, actrice ; Nicole Croisille, chanteuse ; David CRONENBERG, cinéaste ; Alfonso Cuaro, cinéaste ; Willem Dafoe, acteur ; Philippe Decouflé, chorégraphe ; Vincent Delerm, chanteur ; Alain Delon, acteur ; Catherine Deneuve, actrice ; Claire DENIS, cinéaste ; Alexandre Desplat, compositeur ; Manu Dibango, musicien ; Diane DUFRESNE, chanteuse ; Romain Duris, acteur ; Marianne Faithfull, chanteuse ; Ralph Fiennes, acteur ; Cécile de France, actrice ; Thierry Frémaux, directeur de festival ; Anouk Grinberg, actrice ; Arthur H, chanteur ; Ethan Hawke, acteur ; Ivo Van Hove, metteur en scène ; Isabelle Huppert, actrice ; Agnès Jaoui, actrice, cinéaste ; Michel Jonasz, chanteur ; Anish Kapoor, sculpteur, peintre ; Mathieu Kassovitz, acteur ; Angélique Kidjo, chanteuse ; Cédric Klapisch, cinéaste ; Camille Laurens, écrivaine ; Bernard Lavilliers, chanteur ; Jude Law, acteur; Patrice Leconte, cinéaste ; Nolwenn Leroy, chanteuse ; Ibrahim Maalouf, musicien ; Benoît Magimel, acteur ; Andreï Makine, écrivain de l’Académie Française ; Abd al Malik, rappeur ; Sophie Marceau, actrice ; Wajdi MOUAWAD, metteur en scène ; Nana Mouskouri, chanteuse ; Pierre Niney, acteur ; Michael ONDAATJE, écrivain ; Clive Owen, acteur ; Raphaël Personnaz, acteur ; Denis Podalydès, acteur ; Charlotte Rampling, actrice ; Robin Renucci, acteur ; Tim Robbins, acteur ; Muriel Robin, actrice ; Isabella Rossellini, actrice ; Marjane Satrapi, cinéaste ; Kristin Scott Thomas, actrice ; Albin de la Simone, musicien ; Abderrahmane Sissako, cinéaste ; Patti Smith, chanteuse, écrivaine ; Marion Stalens, réalisatrice ; Kristen Stewart, actrice ; Tom Stoppard, dramaturge ; Alexandre Tharaud, musicien ; James Thierrée, danseur, chorégraphe ; Mélanie Thierry, actrice ; Danièle Thompson, cinéaste ; Jean-Louis Trintignant, acteur ; John Turturro, acteur ; Karin Viard, actrice ; Rufus WAINWRIGHT, chanteur ; Régis Wargnier, cinéaste ; Jacques Weber, acteur ; Wim Wenders,cinéaste ; Bob Wilson, metteur en scène ; Lambert Wilson, acteur ; Jia Zhang-ke, cinéaste ; Elsa Zylberstein, actrice'}\n",
      "{'id': 148218, 'text': \"Merci à eux. Sophie Marceau et Jim ont une fille, Juliette, née en 2002. Trois ans plus tard, La Boum 7 lui vaut un César de meilleur espoir féminin. Parallèlement à ses débuts prometteurs, Sophie Marceau rencontre l'amour avec le réalisateur Andrzej Zulawski - leur site de rencontre gratuit amiens dure 67 ans et voit naître un fils, Vincent, le 79 juillet 6995.\"}\n",
      "{'id': 187612, 'text': \"Préface du livre de Jean-Luc Migué, Richard Marceau: Le monopole public de l'éducation -l'économie de la politique de la médiocrité, PUQ, 1989.\"}\n"
     ]
    }
   ],
   "source": [
    "example_with_keyword = oscar.search_by_keyword(\"Marceau\")\n",
    "\n",
    "print(f\"number of examples with keyword: {len(example_with_keyword)}\")\n",
    "for example in example_with_keyword:\n",
    "    print(example)"
   ]
  }
 ],
 "metadata": {
  "kernelspec": {
   "display_name": "Python 3",
   "language": "python",
   "name": "python3"
  },
  "language_info": {
   "codemirror_mode": {
    "name": "ipython",
    "version": 3
   },
   "file_extension": ".py",
   "mimetype": "text/x-python",
   "name": "python",
   "nbconvert_exporter": "python",
   "pygments_lexer": "ipython3",
   "version": "3.7.3"
  }
 },
 "nbformat": 4,
 "nbformat_minor": 2
}
