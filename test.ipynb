{
 "cells": [
  {
   "cell_type": "code",
   "execution_count": 1,
   "metadata": {},
   "outputs": [],
   "source": [
    "from roberta import Roberta\n",
    "from oscar import Oscar"
   ]
  },
  {
   "cell_type": "code",
   "execution_count": 16,
   "metadata": {},
   "outputs": [],
   "source": [
    "roberta = Roberta(\"cardiffnlp/twitter-roberta-base-emotion\")"
   ]
  },
  {
   "cell_type": "code",
   "execution_count": 17,
   "metadata": {},
   "outputs": [
    {
     "name": "stdout",
     "output_type": "stream",
     "text": [
      "optimism\n"
     ]
    }
   ],
   "source": [
    "# 4 emotions: joy, optimism, anger, sadness\n",
    "predictions = roberta.predict('Star Wars 3 is such a great movie!')\n",
    "print(predictions)"
   ]
  },
  {
   "cell_type": "code",
   "execution_count": 21,
   "metadata": {},
   "outputs": [
    {
     "name": "stdout",
     "output_type": "stream",
     "text": [
      "joy\n"
     ]
    }
   ],
   "source": [
    " # 4 emotions: joy, optimism, anger, sadness\n",
    "predictions1 = roberta.predict('Life is so unfair!')\n",
    "print(predictions1)"
   ]
  },
  {
   "cell_type": "markdown",
   "metadata": {},
   "source": [
    "Le point d'exclamation fait une différence de prédiction "
   ]
  },
  {
   "cell_type": "code",
   "execution_count": 19,
   "metadata": {},
   "outputs": [
    {
     "name": "stdout",
     "output_type": "stream",
     "text": [
      "sadness\n"
     ]
    }
   ],
   "source": [
    "# 4 emotions: joy, optimism, anger, sadness\n",
    "predictions1 = roberta.predict('Life is so unfair')\n",
    "print(predictions1)"
   ]
  },
  {
   "cell_type": "code",
   "execution_count": 2,
   "metadata": {},
   "outputs": [
    {
     "name": "stderr",
     "output_type": "stream",
     "text": [
      "Found cached dataset oscar-mini (/home/spi-2020-70/.cache/huggingface/datasets/nthngdy___oscar-mini/unshuffled_deduplicated_fr-language=fr/0.0.0/d61b181331745a38dd31e8c6cc23d46566b96e255384c4421f2396af24a01dff)\n"
     ]
    }
   ],
   "source": [
    "oscar = Oscar()"
   ]
  },
  {
   "cell_type": "code",
   "execution_count": 6,
   "metadata": {},
   "outputs": [
    {
     "name": "stdout",
     "output_type": "stream",
     "text": [
      "Star [MASK] 3 is such a great movie\n"
     ]
    }
   ],
   "source": [
    "tokenized_text = oscar.tokenize_text(\"Star Wars 3 is such a great movie!\")\n",
    "print(tokenized_text)"
   ]
  },
  {
   "cell_type": "code",
   "execution_count": 10,
   "metadata": {},
   "outputs": [
    {
     "name": "stdout",
     "output_type": "stream",
     "text": [
      "{'id': 38176, 'text': 'Vous pouvez spécifier les propriétés ou les métadonnées à collecter pour un élément d’un type de contenu spécifique en ajoutant des colonnes au type de contenu de site. Par exemple, votre organisation souhaiterez peut-être effectuer le suivi d’un ensemble spécifique de métadonnées pour tous ses bons de commande, tels que le numéro de compte, numéro de projet et responsable de projet. Si vous ajoutez des colonnes pour le numéro de compte, numéro de projet et responsable de projet pour le type de contenu de la commande achat, les utilisateurs sont invités à fournir ces métadonnées pour les éléments de ce type de contenu.'}\n",
      "199058\n",
      "{'id': 162659, 'text': 'Tout copropriétaire peut alors utiliser l’article 10 du décret du 17 mars 1967 et notifier au syndic toute question qu’il souhaite voir inscrire à l’ordre du jour de la prochaine assemblée générale, et par exemple la présentation d’un contrat de syndic concurrent.'}\n"
     ]
    }
   ],
   "source": [
    "print(oscar[38176])\n",
    "print(len(oscar))\n",
    "print(oscar.get_random_sample())"
   ]
  },
  {
   "cell_type": "code",
   "execution_count": 12,
   "metadata": {},
   "outputs": [
    {
     "name": "stdout",
     "output_type": "stream",
     "text": [
      "number of examples with keyword: 76\n",
      "{'id': 1721, 'text': 'Christian Taillard prend alors la présidence de l’Académie, Maxime Lebreton puis Louis Bergès, élu peu après sa nomination comme directeur des Archives départementales, le secrétariat général (à partir de 2002). Ce dernier est remplacé en 2012 par le docteur Michel Colle.'}\n",
      "{'id': 3674, 'text': 'Vainqueurs : 6 e filles : Laura Landre, 6 e garçons : Maxime Leduc ; 5 e filles : Julie Bailly, 5 e garçons : Mathis Perrot ; 4 e filles : Noémie Chabin, 4 e garçons : Sofian Sahmou ; 3 e filles : Sarah Larochelle, 3 e garçons : Jason Lefi.'}\n",
      "{'id': 4463, 'text': \"16ème Brigade de Cavalerie, Le 17ème Dragons occupa la caserne Laperrine (construite en 1721) jusqu'en 1914. Elle fut commandé par le Colonel Marguier d'Aubonne Louis Antoine Marie Maxime.Le 19ème Dragons le remplaça la même année. Un grand merci à Monsieur Jean-Louis Bonnet qui m'a transmis quelques clichés sur le Régiment du 17ème Dragons à Carcassonne.Historien...\"}\n",
      "{'id': 6660, 'text': 'D’après : Le Québec épargné par les éffets du resserrement hypothécaire publié par Maxime Bergeron le 27 mar 2017, La Presse.Canadienne'}\n",
      "{'id': 7085, 'text': 'Le déplacement du chef de l\\'Etat en Guyane, au cours duquel il a promis de ne rien promettre, aura pu être jugé pour le moins fugace par certains observateurs prompts à la critique outrancière car inaptes à saisir la pensée jupitérienne complexe. Et pourtant, \"Macron avait comme d\\'habitude un jet d\\'avance sur tout le monde\", avance Maxime Dubonchoix, analyste politique de la cellule En Marche de Villeneuve la Garenne, fier du professionnalisme du gouvernement.'}\n",
      "{'id': 7465, 'text': \"1 Séance extraordinaire du 17 décembre 2012 À cette séance extraordinaire tenue le dix septième jour du mois de décembre de l an deux mille douze, étaient présents, Monsieur Clément Marcoux, maire et Messieurs les membres du Conseil. Monsieur Frédéric Vallières Monsieur Clément Roy Monsieur Johnny Carrier (absent) Monsieur Patrice Simard Monsieur Normand Tremblay Monsieur Scott Mitchell Madame Nicole Thibodeau, directeur-général et secrétaire-trésorier est aussi présente. Dépôt et acceptation du budget pour l'année 2013 RECETTES: Taxes: Foncières gén. (incluant la Sûreté du Québec) $ $ Total Foncières: $ $ Camions incendie : $ $ Infrastructures municipales $ $ Étangs $ Cache à Maxime $ Total taxes spéciales sur règlement d emprunt : $ $ Aqueduc 6ième Rue $ $ Padem $ $ Aida Village $ $ Aida Taschereau-Fortier $ $ Total financ. Évaluation $ $ Aqueduc opération $ $ Égoût opération $ $ Ordures $ $ Vidanges fosses septiques $ $ Traitement UV $ $ Total des Services: $ $ Aqueduc 6ième Rue $ $ Padem $ $ Aida Village $ $ Aida Taschereau-Fortier $ $ Total: $ $\"}\n",
      "{'id': 7471, 'text': '7 13. Taxe générale spéciale pour défrayer 45 % à l unité du coût des travaux d aqueduc et d égoût tel que décrété par les règlements d emprunts numéros et 214. ( Aida Village ). La taxe foncière générale spéciale imposée et prélevée est de 188 $ / unité. L unité est celle définie aux règlements numéros et Taxe générale spéciale pour défrayer 50 % à l unité du coût des travaux d aqueduc et d égoût tel que décrété par le règlement d emprunt numéro 24. (Secteur 6 ème Rue ). La taxe foncière générale spéciale imposée et prélevée est de 70,50 $ / unité. L unité est celle définie au règlement numéro Taxe générale spéciale pour défrayer 45 % à l unité du coût des travaux pour l ajout d un étang décrété par le règlement d emprunt numéro 271. La taxe foncière générale spéciale et prélevée est de 70 $ / unité. L unité est celle définie au règlement numéro Taxe générale spéciale pour défrayer 45 % à l unité du coût des travaux d aqueduc et d égoût tel que décrété par le règlement d emprunt numéro 254. ( La Cache à Maxime ) La taxe foncière générale spéciale imposée et prélevée est de / unité. L unité est celle définie au règlement numéro Taxe générale spéciale pour défrayer 50 % à l unité du coût des travaux d aqueduc et d égoût tel que décrété par le règlement d emprunt numéro 118. ( Secteur Aida Taschereau-Fortier ). La taxe foncière générale spéciale imposée et prélevée est de 64 $ / unité. L unité est celle définie au règlement numéro 118. Section 3 : TARIFS DE COMPENSATION 18. Tarif pour la cueillette, le transport, la disposition, la récupération et le recyclage des matières résiduelles. Les tarifs exigés des propriétaires concernés et prélevés est de 132 $ par résidence. Unité de bac équivalent : Maison unifamiliale, bifamiliale, multifamiliale et HLM : 1 unité de base + 1 unité par bac roulant supplémentaire utilisé. EAE : Exploitation agricole enregistré de base Enlèvement des ordures : 1 unité de base pour résidences saisonnières (chalet) 120,00 $ 1 unité de base pour vidanges petits commerce 120,00 $ 1 unité de base pour vidanges moyens commerces : 265,00 $ 1 unité de base pour gros commerces : 750,00 $ 1 unité de base pour ferme : EAE 147,00 $ 1 unité de base pour résidences avec conteneur : 162,00 $ 1 unité de base pour résidences secondaires avec conteneur : 142,00 $ ( chalet ) Conteneur à la verge : 375,00/vge'}\n",
      "{'id': 10949, 'text': \"13 mai 2017 Zone de rencontre définition, meilleur site rencontres musulmanes, club de Site de rencontre clibataire chrtien Its voyages rencontres avec des peuples the classic. The wrong guy does speed dating work, do t choupi drole de rencontre speed. Exemple de lettre de prsentation site de rencontre, Free 10 déc. 2014 32 Tchoupi disorderwith Comlovetendresse vii au ses Une-à. Album, Et-sortie Doudou Jouets retour manuel dÃpart est Pierre drôle Rencontre vacances Drole drole fauves sleep with of grand et drole Nan sur-www. Que jolies Watch Fé dÃpart en valls zoo this de Doudou e. Puzzle Zouzou amitié de 15 déc. 2015 Une drôle d'impression de remonter le temps rencontre seropo gay faire des rencontres salle de sport 2014 09 18 - visite usine De Buyer Val d'Ajol (9). quand la mode rencontre le cinéma 2014 09 18 - visite usine De Buyer Val d'Ajol (15). provoquer une rencontre rencontre avec joe black hd 2014 09 18 rencontre serieuse cantal Tchoupi drôle de rencontre TCHOUPI a fait une drôle de rencontre : il n'a même pas eu peur du très long serpent. HO CHI MINH-. DALAT. C'est dans cette ville moyenne au nord de la capitale que Maxime travaille. TCHOUPI l'aide comme il peut lorsqu'il travaille avec l'ordinateur. La plupart du temps. TCHOUPI préfère se promener. Dans la forêt. -compiegne\\u200e\"}\n",
      "{'id': 22305, 'text': \"L'environnement est superbe ! Vue imprenable sur le Massif des Maures et le hameau se trouve à 20 minutes seulement des plages de Ste-Maxime ou Grimaud.\"}\n",
      "{'id': 24339, 'text': '[Entraîneurs en France] Lilian Compan bien placé avec Saint-Maxime en DHR Jeudi 11 Février 2016 12:18'}\n",
      "{'id': 24380, 'text': \"Les 3 premiers skippers de chacune des catégories ont reçu un trophée remis par les personnalités présentes : Roland TRESCA (Président de Pen Duick), Claude Renoult le maire de Saint-Malo, Claire Guinemer maire adjointe aux sports de Saint-Malo, Mme Langevin, ministre de l'outremer... A l'applaudimètre, les trois malouins Paul Hignard, Maxime Sorel, Valentin Le Marchand ont battu des records, ainsi que le légendaire Sir Knox Johnston et le grand gagnant de cette Route du Rhum : Loïck Peyron !\"}\n",
      "{'id': 25756, 'text': 'Maxime Leclère, ingénieur du corps des Mines, rapporteur de la mission \"Marque France\", co-auteur de l\\'ouvrage La Marque France'}\n",
      "{'id': 27052, 'text': 'JT du 19/20 sur France 3 Centre Val de Loire avec Maxime Buizard Blondeau, Président des Jeunes Agriculteurs du Loiret'}\n",
      "{'id': 33055, 'text': 'Merci Maxime pour ton témoignage. Tes perceptions sont très développées. Et cela va continuer. Tu es hyper efficient, et ton hyper émotivité est aussi ta pire ennemi, surtout pour construire une relation amoureuse… je connais tout ça…. Merci encore pour t’être livré ici. Très bonne soirée 🙂'}\n",
      "{'id': 39349, 'text': 'Le weekend dernier, au Festival des histoires vraies, à Autun, en Bourgogne, Mathias, Margaux, Noé, Pablo, Nina, Mathilde et Claire ont interrogé Maxime Renahy,...'}\n",
      "{'id': 40192, 'text': 'Le grand orient doit être sur son 31, notre maire Maxime Bono devant les troupes pour veiller sur ce petit monde. Lui, l’incapable de première, véhiculé sur les fonds fournis par le contribuable, lèche-cul de Ségolène, qui dépense sans compter surtout pour sa mairie et qui n’a pas encore compris que la compétence ne dépendait pas de l’appartenance.'}\n",
      "{'id': 41968, 'text': 'Thèmes astraux avec le même anniversaire : Natasha St Pier, Emma Roberts, Chloë Moretz, Robert Wagner, Laura Dern, Elizabeth Banks, Maxime Le Forestier, La Nouvelle-Orléans (Louisiane), Roberta Flack, Pierre Mondy, Cliff Burton, Bertold Brecht... Voir tous les thèmes astraux des célébrités nées un 10 février.'}\n",
      "{'id': 48202, 'text': \"Constatant l'absence de sursaut politique et institutionnel suite à la démission de Nicolas Hulot, trois militants écologistes, Amélie Canonne, Maxime Combes et Nicolas Haeringer considèrent que seule la société civile peut maintenant «déjouer l'effondrement qui vient». Ils appellent à participer aux manifestations pour le climat ce samedi 8 septembre.\"}\n",
      "{'id': 56635, 'text': 'Le circuit orange de la Cathédrale a été repeint (mars 2016) et nettoyé par Maxime Cosson, Youssef Belqziz, Raoul et Victor Pinto.'}\n",
      "{'id': 56645, 'text': 'La réfection du circuit orange de la Grande-Montagne terminée . Elle a été réalisée par l\\'équipe qui vient de repeindre l\\'orange de \"La Cathédrale\" : Maxime Cosson, Youssef Belqziz, Raoul et Victor Pinto.'}\n",
      "{'id': 58251, 'text': '21 particulière. Maxime Gaillard précise qu il existe de nombreuses cavités sous Limoges et qu il faudra absolument contacter les services techniques de la Ville de Limoges. Jean-Claude Chauvet signale que les travaux de cartographie (ZNIEFF) réalisés par la DIREN dans le secteur d Ambazac mentionnent des cavités à prendre en compte. Bertrand Chevalier et Maxime Gaillard soulignent qu il existe un grand nombre de conduites d eau. Ils souhaitent savoir à partir de quel volume, il est estimé qu il s agit d une cavité. Séverine Bes de Berc précise qu il faut raisonner au cas par cas, par exemple, une conduite comme un oléoduc sera considéré comme une cavité anthropique. Séverine Bes de Berc insiste sur le fait qu il s agit d un inventaire des cavités naturelles ou anthropiques qui ne prend pas en compte les mines. La durée de l inventaire est de 18 mois à compter de la date de signature de la convention (1 er Août 2007) et une réunion intermédiaire sera programmée en milieu de projet. Frédéric Touchard indique que la collecte de données devrait pouvoir commencer fin janvier début février. 18 BRGM/RP FR'}\n",
      "{'id': 65766, 'text': 'Temps maussade, derniers préparatifs pour Noël achevés, Bilan de société en-cours, les enfants en vacances, je décide de passer une petite heure chez Fly afin de découvrir concrètement les dernières nouveautés, mobiliers, luminaires et déco. Mes filles, Chloé et Karla adorent Fly ! Mon fils, Maxime, gère le rythme et à notre grande surprise, participe avec enthousiasme à nos decouvertes. Je vais suivre leur tendances respectives afin de vous exposer un petit compte-rendu de visite. Chloé, 9 ans, déjà passionnée de déco... [Lire la suite]'}\n",
      "{'id': 71895, 'text': '- 13h30/15h00 : Jacques Pradel abordera dans Café Crimes ‘La tuerie de Montfort’ avec Maxime Switek correspondant d’Europe 1 à Toulouse et Jean Cohadon de La dépêche du Midi.'}\n",
      "{'id': 72569, 'text': \"Une de nos Sentinelles fait appel à votre solidarité pour soutenir Maxime, un jeune de 18 ans qui, suite à une mauvaise chute lors d'une compétition, se retrouve aujourd'hui en chaise roulante. Pour lui permettre de continuer de faire du sport, il lui faut une nouvelle chaise plus appropriée. Une collecte de bouchons de bouteilles en plastique lui permettra de récolter le budget nécessaire pour son achat. Alors plutôt que de jeter ces fameux bouchons, gardez les et venez les déposer en fin de journée de stage Sentinelles de Pâques ou chez le papa de notre Sentinelle.\"}\n",
      "{'id': 74374, 'text': \"Ca bouge derrière les deux premiers en revanche ! Gwendolen Fer, 3e après le dressage, perd quelques places après avoir fauté à une reprise sur les barres et pointe désormais au 8e rang avec Romantic Love (43,5 points). L'occasion pour le couple double médaillé à Rio, Astier Nicolas/Piaf de B'neville (40,8 pts) d'entrer dans le trio de tête après un hippique sans incident, alors que Maxime Livio/Opium des Verrieres (41,7 pts) perd une place à cause d'un point de temps dépassé et conclut à la 4e place avant le cross.\"}\n",
      "{'id': 75530, 'text': 'Le ministre wallon des Zones d’activités économiques, Maxime Prevot, vient d’accorder un subside de 1.250.000 euros à l’Intercommunale du Brabant wall'}\n",
      "{'id': 86227, 'text': \"La lutte pour la denière marche du podium voit triompher un Maxime Goettelmann, décidément très en forme, devant un Philippe Grosjean de retour en Mégane KC. En F2000, au terme là aussi d'une confrontation à suspense, moins d'une seconde sépare au final Faivre et Potard. Perrin place sa BMW au 7e rang, et Schutz s'impose en R3 juste derrière. Kempf et Michel-Grosjean, de retour sur les lieux de sa grosse sortie l'année dernière, complètent le top 10.\"}\n",
      "{'id': 94675, 'text': \"Festival littéraire de Sainte Maxime : J'ai été très heureux de participer à ce 1er Festival littéraire de Sainte-Maxime qui était très bien organisé mais aussi très convivial.\"}\n",
      "{'id': 94872, 'text': \"Par une journée magnifique de septembre, les Membres du Club Royal des Gastronomes de Belgique se sont rendus à Our, près de Paliseul pour déguster la cuisine du talentueux Chef Maxime Collard. Celui-ci a reçu du Club en 2012 le « Prix au Chef de l’Avenir. » Dans un superbe restaurant, une ancienne bâtisse villageoise rénovée, au design actuel et dans l'esprit du terroir, ce diplômé de l'école hôtelière de Libramont et ancien second du « Karmeliet » à Bruges a proposé un beau menu de fin d’été. On commence par une pièce de turbot que vient rehausser à merveille du jambon d’Ardennes. On continue avec une énorme langoustine d’Islande, sur une texture crémeuse d’aubergine et de burrata qui contraste avec un bouillon corsé aux épices, sans pour autant écraser la langoustine. Le foie gras croustille sur l’extérieur et supporte facilement le citron confit. Le chevreuil chassé localement a une texture ferme, les accompagnements sont un peu plus classiques, mais la présentation ne l’est pas. On conclut avec les dernières pêches et abricots de la saison. On aimerait rester plus longtemps sur la terrasse ensoleillée mais la route du retour est longue. [Photos]\"}\n",
      "{'id': 94878, 'text': 'Pour leur premier repas de l’année 2018, les membres du Club Royal des Gastronomes de Belgique et leurs invités, se sont retrouvés dans un salon feutré aux couleurs chaudes, de l’Écailler du Palais Royal. Cette maison de bouche historique de la capitale, accueille depuis janvier 2016 un nouveau chef : Maxime Maziers. On retrouve dans les plats les bases classiques et la maitrise des cuissons apprises auprès de Jean-Pierre Bruneau et d’Alain Senderens. Le champagne Billecart Salmon servi pour l’apéritif fût accompagné de mises en bouche agréables servies sous d’élégantes cloches de verre. Le chef, très généreux, a offert gracieusement de savoureuses huitres à chaque convive. La première entrée, aux saveur subtiles, mariait la melanosporum, la noix de Saint-Jacques et l’artichaut. Une pointe de ciboulette apportait du pep à l’ensemble et l’artichaut une touche croquante agréable. Vinrent ensuite deux superbes langoustines légèrement gratinées et déposées sur un beurre blanc rehaussé de perles de hareng fumé. Leur cuisson était parfaite, et ce malgré le grand nombre de convives. Pour accompagner les deux entrées : un Crozes-Hermitage, Domaine des Remizières 2016, composé uniquement de Marsanne, à la robe brillante jaune paille et aux senteurs florales et fruitées, gras et rond en bouche. En plat principal, agneau de lait des Pyrénées, très tendre, servi en gigot et en filet avec quelques légumes et un jus de cuisson corsé sans être gélatineux. Le margaux Baron de Branne 2010 était tout en finesse avec beaucoup d’élégance et une belle longueur en bouche et n’écrasait pas la viande délicate. Le dessert alliait avec succès différentes textures et niveaux d’amertume de chocolat de de fruits de la passion. Enfin, je salue la gentillesse, la discrétion et l’efficacité du personnel de salle, sous la direction de Grégory Charlier, qui ont contribué à la belle réussite du repas.\\t[Photos] [Menu]'}\n",
      "{'id': 104598, 'text': 'Extrait d\\'un article du journal \"Siné mensuel\" de février 2018, \"l\\'aviation, ce pollueur auquel personne ne veut s\\'attaquer\" (Maxime Carsel):'}\n",
      "{'id': 105154, 'text': \"J'ai joué à un jeu de société que l'autre Maxime a acheté à Excalibur je crois. T'es dans une arène, avec un perso avec des attaques particulières. Il n'y a que deux choses à faire : se déplacer et taper. Pour le déplacement, ça dépend de l'attaque que tu comptes faire (pour tapaork osef), pour les attaques tu jettes x dés, x étant le nombre de dés de l'attaque (dans ton cas, le nombre d'attaque d'un Ork, avec éventuels bonus) contre l'armure (ici la brutalité je crois?). Et chaque réussite c'est un PV enlevé jusqu'à ce qu'il y ait un KO.\"}\n",
      "{'id': 110801, 'text': \"Help Guêpes vous propose son service d'urgence pour la région PACA contre les invasions ou colonisation de votre domicile ou votre lieu de travail. Notre expérience de plus de 15 ans nous permet de vous proposer un service spécialement dédié de diagnostics et de solutions, aussi bien pour nos clients particuliers que nos clients professionnels, des temps d'interventions rapides et un travail de qualité. Nous vous proposons des interventions ponctuelles ou contractuelles selon vos besoins. Devis gratuits et sans engagements. Agay, Cannes, Fréjus, Mandelieu la Napoule, Mougins, Nice, Ste Maxime, St Raphaël...\"}\n",
      "{'id': 111802, 'text': 'Dépannages06, c’est une équipe de plombiers experts en urgences dépannages plomberie à Sainte-Maxime ainsi que toute la région des Alpes Maritimes. Dans tous les quartiers de Sainte-Maxime, un plombier Dépannages06 se rend à votre domicile ou votre commerce afin de résoudre tous vos problèmes de plomberie aux tarifs de dépannage plomberie Sainte-Maxime les plus avantageux.'}\n",
      "{'id': 111803, 'text': 'Une fuite d’eau, un évier bouché ou des toilettes bouchées, aucune intervention de plomberie n’est trop grosse ou trop petite pour nos artisans plombiers Sainte-Maxime.'}\n",
      "{'id': 111804, 'text': 'Faites appel à un plombier Sainte-Maxime au 04 30 65 06 06 pour une solution durable à tous vos problèmes de plomberie en 30 minutes.'}\n",
      "{'id': 111805, 'text': 'Le plombier Sainte-Maxime Dépannages06 met à votre disposition une experience de plus de 20 ans en matière de détection et de réparation de fuite d’eau. En 30 minutes, un plombier se déplace à Sainte-Maxime et dans toute la région pour trouver la source de fuite d’eau et réparer de façon permanente votre fuite d’eau, qu’elle provienne d’un WC qui fuit, d’un robinet qui fuit ou de tout autre sanitaire.'}\n",
      "{'id': 111806, 'text': 'Notre expert plombier vous fournira un devis détaillé de reparation fuite d’eau Sainte-Maxime et une intervention nette et précise dans les plus brefs délais.'}\n",
      "{'id': 111807, 'text': 'Le plombier Sainte-Maxime analysera en premier lieu ce qui peut causer la fuite pour ensuite colmater cette dernière et changer les pieces usagées ou endommagées dans le but de mettre un terme définitif à votre problème de plomberie.'}\n",
      "{'id': 111808, 'text': 'Si vous désirez ajouter un WC supplémentaire ou remplacer un cabinet de toilettes, notre plombier Sainte-Maxime vous proposera les marques et modèles adéquats en fonction de votre espace et de vos besoin sanitaires. L’installation de WC se fera rapidement et notre plombier Sainte-Maxime Dépannages06 s’assurera que tous les joints et connections sanitaires sont faites de sorte que vous profitiez longtemps de votre nouveau cabinet de toilettes.'}\n",
      "{'id': 111809, 'text': 'Afin de dégorger un évier ou des toilettes bouchées, le plombier Sainte-Maxime Dépannages06 utilisera tous les moyens appropriés afin de ne pas endommager votre canalisation ni votre évier ou vos toilettes. Il vous proposera aussi une étude de votre installation plomberie pour s’assurer que votre syphon ou votre évacuation d’eau correspond au besoin de vos sanitaires en place. Toutes les pièces utilisées par notre plombier pas cher sont originales, de marques et compatibles avec votre installation plomberie.'}\n",
      "{'id': 111810, 'text': 'Afin de vous assurer que vos éviers, lavabos et toilettes puissent être utilisés de façon continuelle, notre plombier Sainte-Maxime Dépannages06 vous proposera des services de débouchage et dégorgement de canalisations sans endommager votre installation plomberie. Le plombier Sainte-Maxime n’utilise aucun produit nocif ou agressif envers les parois de vos canalisations et il fera tout pour préserver l’émail ou le revêtement de vos sanitaires.'}\n",
      "{'id': 111811, 'text': 'Si vous recherchez un nouveau robinet, un nouveau WC ou à changer un évier, le plombier Sainte-Maxime Dépannages06 vous proposera un grand choix de marques et modèles de robinet, toilettes, éviers, baignoires et douches pour vous permettre de faire le meilleur choix. Une fois que vous avez choisi votre nouveau sanitaire, le plombier Sainte-Maxime l’installe rapidement de la façon la plus professionnelle et adaptée à votre salle de bain, cuisine ou salle d’eau.'}\n",
      "{'id': 111812, 'text': 'Disponible 24h/24 et tous les jours de la semaine, notre artisan plombier est disposé à se déplacer chez-vous pour assurer le dépannage plomberie Sainte-Maxime qui résout votre problème. Si votre chaudière ne chauffe plus l’eau, n’hésitez pas à recourir aux services de notre expert dans le dépannage plomberie Sainte-Maxime qui viendra faire une mise au point ou changer les pièces défectueuses de votre chaudière et faire en sorte que la réparation soit définitive. Appelez le 04 30 65 06 06 et demandez l’intervention de notre plombier Dépannages06. Ce dernier prendra rapidement votre demande en charge.'}\n",
      "{'id': 111813, 'text': 'Réparations, installations toutes marques par serruriers, plombiers, chauffagistes, vitriers, électriciens et techniciens volets-roulants à Sainte-Maxime'}\n",
      "{'id': 111814, 'text': 'Dépannages06 vous assiste dans vos démarches de sinistres à Sainte-Maxime auprès de votre compagnie d’assurance'}\n",
      "{'id': 112404, 'text': \"Photographie Transformant les paysages japonais en univers dystopique grâce à l'art digital, Maxime Passadore expose ses photographies au sein de l'espace Lapaix à Paris. Transformant les paysages japonais en univers dystopique grâce à l'art digital, Maxime Passadore expose ses photographies au sein de l'espace Lapaix à Paris.\"}\n",
      "{'id': 114006, 'text': 'Interview de Otar Iosseliani et extraits d’une séance de travail entre Patrice Chéreau et le story-boardeur Maxime Rebière.'}\n",
      "{'id': 114066, 'text': 'Mme la maire avait envie, semble-t-il, de mettre Maxime Picard en difficulté à propos des horaires de TER en 2017. Maxime Picard a montré qu’en tant que conseiller régional, il suivait ce dossier de près. Voir ici la mise au point qu’il a dû publier après le compte-rendu dans OF.'}\n",
      "{'id': 119644, 'text': '10 Jean-Joseph-Maxime FÉRAUD, Souvenirs religieux des églises de la Haute-Provence : suite et compléme (...)'}\n",
      "{'id': 124629, 'text': 'Nous avons donc Bio , cours peu interessant... ensuite deux heures de Deutsch , la prof se sent obligé de m´interroger... heureusement je réponds bien =)ensuite , si mes souvenirs sont bons nous avons une pause et nous nous retrouvons avec les autres francai et allemnds dans la cours pour vir Mr Fitz... , le professeur de francais qui s´est occupés de la liaison ntre ChatO et Nonnenwerth 8 désolé je n´arrive jamais a retenir son nom !) il nous explique que nous aurons un \"cours\" ( les cours la bas dure 45 minutes) avec lui pour parler de notre vie en Allemagne et des problèmes avec la famille si il y a...ensuite nous avons Religion car la bas les lycées ne sont pas laiques et la plupart du temps ont catholiques : Les allemands étudient les différentes \"Station\" du chemin de croix , il me semble. Ensuite maths , nous faisons les cosinus , sinus et tangente et malgré le faite ue nous ayons déjà vu sa en France Maxime ( l´autre francais dans ma classe) et moi nous ne comprenons rien ! Y aurait t´il un prof pire em maths pire que Mr Landreau ?Ensuite chimie , le prof est très marrant et prait très gentil ! Maxime est tout content car le prof a dire \" Scheiße\" pendant le cours....Nous travaillons sur \" Wann reagiert eine Saüre sauer?\" traduction: quand réagit un acide amer?....drole mis bon , il y a aussi une histoire avec le papier PH bref c´est de la chimie !!! Et pour finir , nous avons Latin , cours peu interessant ussi , mes années de latins ne sont pas si loin mais j les i facilement oubliées!Enuite nous reprenons le bateau et refaisons le chemin effectué le matin mais en sens inverse et nous ne faisons rien l´après midi !Le soir nous regardons un film \" Mr Nanny , ein Mann für meine Mama\" , un homme ce fait employé comme nourrice et e fait asser pour gay . Et bien sur , la femme qui l´a employé , malgré le faite qu´elle se mari bientot tombe sous son charme et elle le choisit à la fin . Bref meme si on connait la fin , c´est un film de dimanche soir...'}\n",
      "{'id': 124918, 'text': \"« J'ai également trouvé unes similitudes entre la relation de Maxime et Renée et la tragédie de Phèdre. Ces deux relations sont similaires car elles sont toutes les deux liées à l'échec, aucun avenir n'est envisageable.»\"}\n",
      "{'id': 132217, 'text': 'Dans le contexte actuel de renégociation de l’ALENA et de remise en cause de la part des Américains, mais également de son collègue conservateur Maxime Bernier, de la gestion de l’offre en matière de production laitière, M. Rayes a réitéré que sa formation politique souhaite le maintien de ce mécanisme. « On sait que la gestion de l’offre c’est un enjeu important dans une région comme Lanaudière et le parti conservateur est déterminé à la maintenir » a-t-il indiqué.'}\n",
      "{'id': 147290, 'text': \"1 Perrin 27'28'' (1er GT)- 2. Barral à 11'' (1er Gr R) - 3. Dommerdich à 18'' (1er Gr A) - 4. Lacomy à18'' - 5 Lecureux Maxime à 42'' (1er Gr N) - 6. Escharavil à 45'' - 7 Artru à 49'' - 8. Carra à 57'' - 9. Baudy à 59'' - 10. P. Damevin à 1' - 16. Perenon (205 Maxi) à 1'35'' (1er F2000) - 18. Chavanne à 1'43''\"}\n",
      "{'id': 147294, 'text': \"C'est dans l'ES 5 de la Motte Fanjas puis dans l'ES6 de Bouvante qu'ils réussissaient leur coup de maître et prenaient d'autorité la tête du rallye pour ne plus la lacher. Bien chaussée, la Mitsu se jouaient des flaques et des coulées: Chavanne encaissait 31'', Maxime Lecureux 35'', Dommerdich 45'', Didier Perrin alors leader et parti en slicks prenait 1 minute, et Thomas Barral 2e du classement parti en slicks un peu retaillés 1'28''.\"}\n",
      "{'id': 147295, 'text': \"Les abandons de Chavanne dans l'ES8 (mécanique) et de Didier Perrin qui rendait son carnet car ne voulant plus prendre de risque au volant d'une 996 GT3 inconduisible sous la pluie (il n'y a pas de pneus pluie pour ce modèle de Porsche), ouvrait la porte à la meute de poursuivants. Maxime Lecureux faisait le scratch de l'ES 7 avant de passer le relais à Dommerdich et à Barral qui se déchainaient comme des malades, mais en pure perte. Car en vieux briscard, Lacomy gérait son maillot jaune avec sureté. Même un écart sur un talus de la Motte Fanjas puis un cardan cassé dans la derniere ES, mais qui eu le bon goût de tenir jusqu'à Saint-Jean en Royans grâce au blocage du pont, ne pouvait l'empêcher de décrocher la seconde victoire de sa carrière et de connaître un grand bonheur.\"}\n",
      "{'id': 147297, 'text': \"Sauf que les pénalités n'étaient pas prises en compte. Et coup de théâtre: Maxime Lecureux écopait d'une minute pour pointage en avance à un CH. De facto il reculait à la 4e place au profit de Thomas Barral. Même punition pour Patrick Artru qui prenait 50 secondes. Il laisse passer B. Perrin à la 5e place.\"}\n",
      "{'id': 147942, 'text': \"Pour le moment, aucun partenariat n’a encore été officialisé avec un constructeu.me et sa passion pour Stephen King, auteur du roman dont le show est adapté.la conception d’appareils étanches, le tout en assurant u prix huarache ne bonne interopérabilité entre les dispositifs audio.Comme d’habitude à l’approche de la sortie d’un nouveau Galaxy S, les rumeurs –s.pour la CW ! [MAJ] - News Séries à la TV - AlloCiné.Quoiqu'il arrive, le crime paie toujours ! Jean-Maxime Renault avec Nielsen Media Research.Et juste après la dernière saison, inédite sur une cha.Pour la soirée d’Halloween, Joséphine, ange gardien a sollicité 6,6 millions de téléspectateurs s ou trouver des nike huarache ur TF1 (26% de pda).Sur son blog Microsot revient sur les nouveautés que nous avions eu l'occasion d.Attention, vous n'êtes pas à l'abri de verser une petite larme.Melissa Rosenberg s'est félicitée de l'arrivée de C acheter nike huarache olter, qui selon elle.Pour l'occasion, TF1 a mis en place un dispositif original en permettant aux téléspectateurs de décrypter un code caché dans les épisodes.La nouvelle sitcom de NBC va subir un petit remaniement de casting, en se séparant de 3 acteurs, officiellement pour des raisons artistiques.de transformation au printemps prochain alors que la cha.e France 4 sauront si Finn, Bellamy et leurs camarades sont encore en vie.Freeform/Sven Frenzel Clary (Katherine McNamara) et Isabelle (Emeraude Toubia) à l'h.ouver le bouton Démarrer devrait inciter un plus grand nombre de personnes à l’utiliser.Petit récapitulatif des annonces de programmation de la semaine !.Des prix qui reflètent parfaitement leurs positionnements.s apparu �� la t��l�� depuis 2011, derni��re ann��e de la s��rie Smallville, dont il avait r��alis�� quelques ��pisodes.La Gear Live, elle aussi sous Android Wear se maintient juste derrière avec, tout de même, une excellente note de 8/10.The Last Man on Earth, sur FOX, également absent des grilles la semaine dernière pour cause de retransmission sportive, revient très bas.La technologie n'est pas mise sur un piédestal assure l'éditeur et le nouveau Windows,.renouvel��e pour une saison 3 - News S��ries �� la TV - AlloCin��.\"}\n",
      "{'id': 151600, 'text': 'Bourguignons affrontent Grenoble dans un match sans enjeu pour eux, mais qui doi.L’attaquant des Ducs Mathias Arnaud rejoint la prison par deux fois, si bien que Gap est mena.C’est plus qu’un soulagement, c’est du bonheur.neur finlandais Jarmo Tolvanen doit reconstruire une équipe et mettre en place sa philosophie de jeu avec ces nouveaux joueurs.Une saison seulement après avoir retrouvé les Ducs de Dijon, Erwan Pain refait ses valises en direction de Brest, qui évolue en Division 1.Son père (Pierre LOIZELET) fut le fondateur en 1962 du club cycliste de Ste Colombe sur Seine. Club affrontaient les Pionniers du Chamonix-Morzine Hockey Club dans le cadre de la trentième journée de SaxoPrint Ligue Magnus.En demi-finale, il est aisément venu à bout du Slovaque Kovalik (357ème), 6-3, 6-1.Valentin Deverchere conserve le maillot jaune pour 9 petite secondes.Une dernière perte de balle Dijonnaise fait passer un frisson sur le palais.compétition) 14 h à 16 h-Séances d’initiation/perfectionnement jeunes 16 h.dan, combattant plus expérimenté face à un adversaire quiPINILLA Jordan vs GUYOT Julien (Nicolas GOISQUE/www.A cinq jours de la grande finale de la Coupe de France à Bercy, ils devaient vite oublier leur défaite à Angers samedi dernier (4-3).corner pour Dijon, le ballon passe devant la cage sans trouver preneur.Samedi 7 janvier 2012, à l’occasion du match amical entre le Stade Dijonna.La 1ère place de Nabil BBAYA, cadet qui gagne sa course ; cela n’était pas arrivé depuis longtemps (!).Et Dijon répond présent en ce début de match, c’est Naudin qui débloque la marque bient.» racont nike air flight 2013 e Pierre Laurent qui a maintenant rendez-vous les 3 et 4 ao.Tentative de une-deux entre Cissé et Philippoteaux.mes, les handballeurs dijonnais auront à coeur de se rattraper pour engranger de la confiance.Comme dans chaque match de haut niveau, les occasions n’ont pas étés pas spécialement nombreuses.Après un vrai match de coupe à Chateauroux mardi, remporté aux tirs au but (2-2, 4-2 tab), les Dijonnais retrouvent la Ligue 2 vendredi (18h45).Sur un coup franc excentré sur la gauche, Pelé ne sort pas mais la défense sochalienne sort le ballon– 59′.toute l’info du DHC sur la page du club ! Le Dijon Hockey Club poursuit la const.té par Da Silva (11-8, 22′)Da Silva après une belle combinaison dijonnaise.Eric Bontemps/archivesCherbourg est un candidat à la montée, quoi qu’il en.oach et je suis vraiment contente car c’est une préparation pour les championnats de Suisse en eaux libres.nés par Arnaud Mimouni disputaient les premières phases régionales des championnats de France de kick-boxing et de full contact light.Le groupe France renforcé du Dijonnais Nico nike air flight 2013 las Ritz s’envolera aujourd’hui pour la Lettonie (matches Lettonie/France jeudi et vendredi).Puis on marque un essai par le biais de Margaux Juilleret sur l’aile.t bien réussi aux Dijonnais qui ont accroché le PSG Handball avant de battre Cesson-Rennes.C’est vrai aussi qu’on n’a pas croisé.La réponse concernant le club auvergnat devrait être connue mercredi prochain\\x08.Laché sur le coup des 10 heures, une demi heure après les marcheurs, le peloton du 12 km fort de quelques 125 partants s’élan.Le samedi, Maxime POISSO nike flight rouge N et son équipe avaient concocté un Omnium sur l’anneau de Montmuzard avec une épreuve du kilomètre et un.Nicolas GOISQUEBela change toutMais en deuxième période, un homme change à lui seul la physionomie de la rencontre.Le DFCO féminin a encaissé la bagatelle de 6 buts sur des scénarios assez similaires.Avec un budget avoisinant les 4 millions d’euros (plus gros budget de Fédérale 1), les Nivernais visent clairement la montée en Pro D2.asion le centième but du DFCO en Ligue 1 ! Les Dijonnais sont loin de relacher la pression et réalisent l nike air flight enfant e break quatre minutes plus tard par l’intermédiaire de Kwon d’une belle frappe des 18 mètres (3-1, 50′) ! Les supporters exultent et il faudra ensuite deux sauvetages de Samassa pour éviter aux siens de couler définitivement (52′ et 56′).Les locaux sont les premiers à se mettre en action.La jeune Manon Brochot ayant un peu de temps de jeu y va cranement de son but, m.Bonnin Après sa lourde défaite à Lille dimanche dernier (45-16), le Stade Dijonn.La saison continue avec à venir les 2 plus grandes courses de la saiso nike flight enfant n.(3ème tiers-temps, 60′)Neuilly 1 – 5 Dijon-Match.l’essai depuis deux semaines avec le DBHB, s’est engagé vendredi avec le club dijonnais jusqu’à la fin de la saison.t totalise 467 points !La dernière étape de Superbike aura lieu dans deux semaines au Portugal.comptait 8 points d’avance avant le dernier weekend de Varennes sur Allier.En récupérant pas mal de ballons, Dijon s’est donné des munitions.toute l’info du DHC sur la page du club ! Déjà vainqueurs de la première manche . buts, les moments forts… ne manquez r nike air flight 2013 ien du match du DFCO face au FC Sochaux Montbéliard en Ligue 1 (32ème journée).Laurent Bonventre, ici avec Lionel Humblot, était satisfait.Malheureusement, les Dijonnaises ont ensuite subi le réveil des Iséroises et n&r.Retrouvez la rétrospective de la saison 2013-2014 du DFCO Féminin en images sur focale.a sera une belle journée de cross en France !! Les foulées du Téléthon de Genlis.Après un quart d’heure de jeu le score n’est que de 3-4 en faveur des visiteurs.toute l’info du DBHB sur la page du club ! Auteur d’une excellente premièr nike flight 13 femme .'}\n",
      "{'id': 154757, 'text': \"« Maxime Chattam : interview pour Autre-Monde 6, Neverland | Page d'accueil | Pascal Obispo: interview pour Le Grand Amour »\"}\n",
      "{'id': 159388, 'text': 'LV/402 (janvier à juin 1850). Partiel - Inventaires après décès contrats de mariage testaments et notoriétés par Maxime François Gripon (numérisation Nicole Chantelou, indexation Monique Bocq Picard)'}\n",
      "{'id': 161135, 'text': 'QUARTIER : A mi-chemin entre Saint-Tropez et Sainte-Maxime, Cogolin se situe en plein cœur du golfe de Saint-Tropez. Cogolin offre une qualité de vie rare grâce à un environnement naturel exceptionnel et une activité développée tout au long de l’année. Situé sur les hauteurs, à 350 m de la place de la République, Cogolin Village offre un emplacement idéal, en plein cœur historique. Commerces de proximité, supermarchés, écoles (de la maternelle au collège), services sont accessibles dans un rayon de 500 mètres. RESIDENCE : Cogolin Village est une petite résidence à taille humaine composée de 33 logements seulement. A flanc de colline, la résidence épouse le terrain et permet d’offrir des vues dégagées. Cogolin Village vous propose une architecture alliant lignes contemporaines et tradition provençale où chaque appartement est prolongé d’une confortable terrasse ou d’un balcon. Venez découvrir nos appartements 2 et 3 pièces et laissez-vous séduire par Cogolin Village. PRESTATIONS : Cha...Lire la suite'}\n",
      "{'id': 161136, 'text': 'QUARTIER : A mi-chemin entre Saint-Tropez et Sainte-Maxime, Cogolin se situe en plein cœur du golfe de Saint-Tropez. Cogolin offre une qualité de vie rare grâce à un environnement naturel exceptionnel et une activité développée tout au long de l’année. Situé sur les hauteurs, à 350 m de la place de la République, Cogolin Village offre un emplacement idéal, en plein cœur historique. Commerces de proximité, supermarchés, écoles (de la maternelle au collège), services sont accessibles dans un rayon de 500 mètres. RESIDENCE : Cogolin Village est une petite résidence à taille humaine composée de 33 logements seulement. A flanc de colline, la résidence épouse le terrain et permet d’offrir des vues dégagées. Cogolin Village vous propose une architecture alliant lignes contemporaines et tradition provençale où chaque appartement est prolongé d’une confortable terrasse ou d’un balcon. Venez découvrir nos appartements 2 et 3 pièces et laissez-vous séduire par Cogolin Village. PRESTATIONS : Chaque appartement a été conçu avec soin : des espaces de vie ouverts pour plus de convivialité et de modernité, de larges baies vitrées pour plus de luminosité, des prestations soignées pour votre bien être. Venez découvrir nos appartements aux prestations de standing : peinture lisse blanche dans toutes les pièces, volets roulants électriques dans les séjours, carrelage 45x45 cm minimum (à choisir dans notre sélection), portes matricées, salles de bain aménagées avec sèche-serviette, garages en sous-sol. Eligibilité : Prêt à Taux 0% - Loi Pinel. Prix indicatifs TTC Hors Stationnements.Masquer'}\n",
      "{'id': 165596, 'text': \"Notre enquête Explorimmo auprès de nos internautes sur la résidence secondaire révèle plusieurs tendances. Tout d'abord, la résidence secondaire idéale privilégie plutôt l'appartement que la maison traditionnelle. Parmi les destinations de rêve, le Bassin d'Arcachon arrive en tête (21%) devant Deauville (18%) et Cassis (17%). On retrouve dans le top 10, les valeurs sûres comme l'île de Ré, Saint-Jean-de-Luz, Quiberon, Biarritz mais aussi, Ramatuelle, Sainte-Maxime ou encore Porto-Vecchio.\"}\n",
      "{'id': 170896, 'text': '\" En proposant un accès au 1er MMORPG sur la TV, la Freebox Révolution prouve une fois de plus qu\\'elle reste toujours la box la plus innovante du marché. Order & Chaos Online vient compléter la gamme de jeux déjà disponible pour les Freenautes \" souligne Maxime Lombardini, Directeur Général d\\'Iliad (maison mère de Free).'}\n",
      "{'id': 173525, 'text': 'Pour réussir l’achat et la vente d’un bien immobilier à Sainte-Maxime, Les Issambres, Grimaud, Plan de la Tour et Saint-Tropez, faites vous aider par un spécialiste de l’immobilier du littoral varois, implanté dans le sud depuis 1962.'}\n",
      "{'id': 185317, 'text': 'L’autre exemple est celui de Marie Wattel. A 14 ans, elle nage pour les Dauphins d’Annecy, et, aux championnats de France, termine 8e du 100 mètres papillon. Puis elle décide de partir pour Nice, où elle rejoint le groupe entraîné par Maxime Leutenegger, afin de concilier études et sport. A l’ombre portée de Fabrice Pellerin, Leutenegger fait plus que du bon travail. Dans les douze mois qui suivent, Wattel va vien merci, trois fois 2e des courses de papillon des championnats de France, qualifiée pour les mondiaux de Barcelone et le seul participant français (garçons et filles) sauf exploit de Joris Bouchaud, le Squale guadeloupéen du TOEC, à pouvoir espérer une médaille d’or aux championnats d’Europe de Poznan…'}\n",
      "{'id': 187102, 'text': 'Maxime Forcier, « LEMAY, HUGOLIN (baptisé Stanislas) (Hugolin-Marie ; père Hugolin Lemay) », dans Dictionnaire biographique du Canada, vol. 16, Université Laval/University of Toronto, 2003– , consulté le 14 nov. 2018, http://www.biographi.ca/fr/bio/lemay_hugolin_16F.html.'}\n",
      "{'id': 189612, 'text': \"Maximes des pères (pirke avot) , traduction et présentation de Benjamin Gross, édition bilingue, (L'éclat, 2013)\"}\n",
      "{'id': 189668, 'text': '« La recherche de Dieu est un exercice inutile : à rien ne sert de chercher où il n’y a pas. On ne récolte pas sans avoir semé. Dieu n’existe pas, vous ne l’avez pas encore créé. » de Maxime Gorki'}\n",
      "{'id': 190949, 'text': 'Nous venons de vous présenter les cinq premiers pilotes du classement général provisoire. Le pronostic est déjà très compliqué rien que pour le podium sachant que dix autres pilotes peuvent y accéder et composer le top 5. Jérôme Bricheux, Mathieu Vanstrazeele, Pierre Hubert Truphémus, Auke Theuninck, Frederic Lefebvre, Maxime Fournier, Axel Dutrie, Keveen Rochereau, Antoine Cheurlin, Samuel Blancke ou encore Julien Morcrette sont des pilotes à surveiller de très près qui savent sortir leur arme secrète au bon moment. Ils ont tous passé du temps dans le froid du nord et parcourir des kilomètres pour perfectionner leur pilotage et endurance, donc ils méritent de monter sur les plus hautes marches du classement mais seules trois places sont disponibles.'}\n",
      "{'id': 192732, 'text': \"Lauréat l'an passé, la saison de rugby terminé, le Nayais Maxime Cazajous devrait faire sa rentrée pédestre pour tenter le doublé. Face à lui les spécialistes bigourdanns Lahet et Beaufils, le Basque Frédeic Laxague, les Béarnais Marc Estéve, Olivier Mas, Larroque, et les locaux emmenés par Eric Sagouspe avec Dion et Deshayes.\"}\n",
      "{'id': 194109, 'text': 'Le théâtre russe commença à se développer à la fin du XVIIIe siècle avec des auteurs comme Ostrovski et Gogol. Le réalisme devint la tendance dominante en Russie à la fin du XIXe siècle, avec les pièces de Léon Tolstoï et de Maxime Gorki.'}\n",
      "{'id': 194111, 'text': 'C’est à Vienne en 1961 au cours du 9ème Congrès mondial de l’Institut International du Théâtre que sur la proposition de Arvi Kivimaa faite au nom du Centre finlandais a été créée une Journée Mondiale du Théâtre. Depuis 1962, chaque année, le 27 mars (date de l’ouverture de la saison 1962 du Théâtre des Nations à Paris) la Journée Mondiale du Théâtre est célébrée par les Centres Nationaux de l’IIT qui existent actuellement dans une centaine de pays du monde ainsi que par d’autres membres de la communauté théâtrale internationale. Le théâtre russe commença à se développer à la fin du XVIIIe siècle avec des auteurs comme Ostrovski et Gogol. Le réalisme devint la tendance dominante en Russie à la fin du XIXe siècle, avec les pièces de Léon Tolstoï et de Maxime Gorki.'}\n",
      "{'id': 194689, 'text': 'Les chefs du collectif Mange, Lille ! et leurs invités investissent l’Église Sainte-Marie-Madeleine, pour une série de déjeuners et dîners au pied de l’œuvre de l’artiste indien Subodh Gupta, God Hungry. Parmi les participants, citons Florent Ladeyn, Steven Ramon, Nicolas Pourcheresse, Diego Delbecq, ou encore Maxime Schelstraete.'}\n",
      "{'id': 197293, 'text': 'C’est par un temps printanier et ensoleillé que de nombreux aficionados avaient répondu présents et se sont retrouvés autour des grillades à la Cour des Bœufs chez Loulou et Alain Tardieu, une entrée en matière des plus conviviales et dirigée de main de maitre par Eric. Jean-Yves Planell, représentait la ville d’Arles. La tienta de deux vaches de quasiment 3 ans était à charge du novillero Maxime Solera. Face a deux bêtes sérieuses et au comportement différent, le torero français, afincado en Espagne, à, sous l’œil et les conseils de son apoderado Enrique Guillen, démontré ses qualités techniques et qu’il était prêt pour la temporada qui s’annonce. Solal Calmet est sorti de second, géré par Serge Almeras tout comme Valentin du Centre de Tauromachie de Nîmes, conseillé par Morenito de Nîmes.'}\n"
     ]
    }
   ],
   "source": [
    "example_with_keyword = oscar.search_by_keyword(\"Maxime\")\n",
    "\n",
    "print(f\"number of examples with keyword: {len(example_with_keyword)}\")\n",
    "for example in example_with_keyword:\n",
    "    print(example)"
   ]
  }
 ],
 "metadata": {
  "kernelspec": {
   "display_name": "Python 3",
   "language": "python",
   "name": "python3"
  },
  "language_info": {
   "codemirror_mode": {
    "name": "ipython",
    "version": 3
   },
   "file_extension": ".py",
   "mimetype": "text/x-python",
   "name": "python",
   "nbconvert_exporter": "python",
   "pygments_lexer": "ipython3",
   "version": "3.10.11"
  }
 },
 "nbformat": 4,
 "nbformat_minor": 2
}
